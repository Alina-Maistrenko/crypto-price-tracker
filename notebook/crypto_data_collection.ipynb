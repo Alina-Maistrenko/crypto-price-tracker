pip install pycoingecko pandas

from datetime import datetime, timedelta
import pandas as pd
from pycoingecko import CoinGeckoAPI

# 1. API Initialization
First, import the CoinGecko API client and create an instance to start fetching cryptocurrency data.

cg = CoinGeckoAPI()

# 2. Coins to Collect
We will collect price data for the following cryptocurrencies:

coins = {
    'bitcoin': 'BTC',
    'ethereum': 'ETH',
    'binancecoin': 'BNB',
    'cardano': 'ADA',
    'solana': 'SOL'
}

# 3. Function to Generate Date Ranges in 365-Day Intervals
This function yields start and end dates in chunks of 365 days between the given start and end dates.

def daterange(start_date, end_date, delta_days=365):
    current_start = start_date
    while current_start < end_date:
        current_end = min(current_start + timedelta(days=delta_days), end_date)
        yield current_start, current_end
        current_start = current_end + timedelta(days=1)

# 4. Define the Data Collection Period

start_date = datetime(2021, 1, 1)
end_date = datetime.now()

# 5. Initialize an Empty DataFrame
Create an empty pandas DataFrame to store combined price data for all cryptocurrencies.

combined_data = pd.DataFrame()

# 6. Main Data Collection Loop
This loop iterates over each cryptocurrency and fetches historical price data in defined date ranges, then appends it to a combined DataFrame.

for coin_id, symbol in coins.items():
    print(f"Processing {symbol}")
    for start, end in daterange(start_date, end_date):
        print(f"Loading data from {start.date()} to {end.date()}")
        from_ts = int(start.timestamp())
        to_ts = int(end.timestamp())
        try:
            data = cg.get_coin_market_chart_range_by_id(
                id=coin_id,
                vs_currency='usd',
                from_timestamp=from_ts,
                to_timestamp=to_ts
            )
            prices = pd.DataFrame(data['prices'], columns=['timestamp', 'price'])
            prices['date'] = pd.to_datetime(prices['timestamp'], unit='ms')
            prices['symbol'] = symbol
            prices = prices[['date', 'symbol', 'price']]
            combined_data = pd.concat([combined_data, prices], ignore_index=True)
        except Exception as e:
            print(f"Error loading {symbol} data from {start.date()} to {end.date()}: {e}")

# 7. Remove Duplicates
Remove duplicate entries based on date and symbol columns to ensure data integrity.

combined_data = combined_data.drop_duplicates(subset=['date', 'symbol']).reset_index(drop=True)

Notify that data collection has finished successfully

print("Data collection complete!")

# 8. Create the Database

import sqlite3

# Connect to (or create) SQLite database file in the data folder
conn = sqlite3.connect('data/crypto_data.sqlite')

# Save the combined DataFrame to a table named 'crypto_prices'
combined_data.to_sql('crypto_prices', conn, if_exists='replace', index=False)

# Close the connection
conn.close()

print("Database saved to data/crypto_data.sqlite")

# 9. Download the Database from Colab to Your Computer

from google.colab import files
files.download('crypto_data.sqlite')
