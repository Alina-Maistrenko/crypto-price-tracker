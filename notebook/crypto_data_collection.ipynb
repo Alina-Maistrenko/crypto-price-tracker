{
  "nbformat": 4,
  "nbformat_minor": 0,
  "metadata": {
    "colab": {
      "provenance": [],
      "authorship_tag": "ABX9TyM/TrheTXNVuMhr7qTtXm0U",
      "include_colab_link": true
    },
    "kernelspec": {
      "name": "python3",
      "display_name": "Python 3"
    },
    "language_info": {
      "name": "python"
    }
  },
  "cells": [
    {
      "cell_type": "markdown",
      "metadata": {
        "id": "view-in-github",
        "colab_type": "text"
      },
      "source": [
        "<a href=\"https://colab.research.google.com/github/Alina-Maistrenko/crypto-price-tracker/blob/main/notebook/crypto_data_collection.ipynb\" target=\"_parent\"><img src=\"https://colab.research.google.com/assets/colab-badge.svg\" alt=\"Open In Colab\"/></a>"
      ]
    },
    {
      "cell_type": "code",
      "execution_count": 11,
      "metadata": {
        "colab": {
          "base_uri": "https://localhost:8080/"
        },
        "id": "46stVzqrEkWP",
        "outputId": "c8ffba10-aecf-4fcd-dadc-9f3a048539bc"
      },
      "outputs": [
        {
          "output_type": "stream",
          "name": "stdout",
          "text": [
            "Requirement already satisfied: pycoingecko in /usr/local/lib/python3.11/dist-packages (3.2.0)\n",
            "Requirement already satisfied: pandas in /usr/local/lib/python3.11/dist-packages (2.2.2)\n",
            "Requirement already satisfied: requests in /usr/local/lib/python3.11/dist-packages (from pycoingecko) (2.32.3)\n",
            "Requirement already satisfied: numpy>=1.23.2 in /usr/local/lib/python3.11/dist-packages (from pandas) (2.0.2)\n",
            "Requirement already satisfied: python-dateutil>=2.8.2 in /usr/local/lib/python3.11/dist-packages (from pandas) (2.9.0.post0)\n",
            "Requirement already satisfied: pytz>=2020.1 in /usr/local/lib/python3.11/dist-packages (from pandas) (2025.2)\n",
            "Requirement already satisfied: tzdata>=2022.7 in /usr/local/lib/python3.11/dist-packages (from pandas) (2025.2)\n",
            "Requirement already satisfied: six>=1.5 in /usr/local/lib/python3.11/dist-packages (from python-dateutil>=2.8.2->pandas) (1.17.0)\n",
            "Requirement already satisfied: charset-normalizer<4,>=2 in /usr/local/lib/python3.11/dist-packages (from requests->pycoingecko) (3.4.2)\n",
            "Requirement already satisfied: idna<4,>=2.5 in /usr/local/lib/python3.11/dist-packages (from requests->pycoingecko) (3.10)\n",
            "Requirement already satisfied: urllib3<3,>=1.21.1 in /usr/local/lib/python3.11/dist-packages (from requests->pycoingecko) (2.4.0)\n",
            "Requirement already satisfied: certifi>=2017.4.17 in /usr/local/lib/python3.11/dist-packages (from requests->pycoingecko) (2025.6.15)\n"
          ]
        }
      ],
      "source": [
        "pip install pycoingecko pandas"
      ]
    },
    {
      "cell_type": "code",
      "source": [
        "from datetime import datetime, timedelta\n",
        "import pandas as pd\n",
        "from pycoingecko import CoinGeckoAPI"
      ],
      "metadata": {
        "id": "JwbRqEGhFSEs"
      },
      "execution_count": 12,
      "outputs": []
    },
    {
      "cell_type": "markdown",
      "source": [],
      "metadata": {
        "id": "FLsO4cB-M17i"
      }
    },
    {
      "cell_type": "markdown",
      "source": [
        "# 1. API Initialization\n",
        "First, import the CoinGecko API client and create an instance to start fetching cryptocurrency data."
      ],
      "metadata": {
        "id": "S7F1ulZjFXOI"
      }
    },
    {
      "cell_type": "code",
      "source": [
        "cg = CoinGeckoAPI()"
      ],
      "metadata": {
        "id": "_kkCF5bHFTH6"
      },
      "execution_count": 13,
      "outputs": []
    },
    {
      "cell_type": "markdown",
      "source": [
        "# 2. Coins to Collect\n",
        "We will collect price data for the following cryptocurrencies:"
      ],
      "metadata": {
        "id": "INjcs2KWFuzh"
      }
    },
    {
      "cell_type": "code",
      "source": [
        "coins = {\n",
        "    'bitcoin': 'BTC',\n",
        "    'ethereum': 'ETH',\n",
        "    'binancecoin': 'BNB',\n",
        "    'cardano': 'ADA',\n",
        "    'solana': 'SOL'\n",
        "}"
      ],
      "metadata": {
        "id": "QxqUzRmMFwN5"
      },
      "execution_count": 14,
      "outputs": []
    },
    {
      "cell_type": "markdown",
      "source": [
        "# 3. Function to Generate Date Ranges in 365-Day Intervals\n",
        "This function yields start and end dates in chunks of 365 days between the given start and end dates."
      ],
      "metadata": {
        "id": "8oJFyoNrF5Ej"
      }
    },
    {
      "cell_type": "code",
      "source": [
        "def daterange(start_date, end_date, delta_days=365):\n",
        "    current_start = start_date\n",
        "    while current_start < end_date:\n",
        "        current_end = min(current_start + timedelta(days=delta_days), end_date)\n",
        "        yield current_start, current_end\n",
        "        current_start = current_end + timedelta(days=1)"
      ],
      "metadata": {
        "id": "Mdut40f9HtDh"
      },
      "execution_count": 15,
      "outputs": []
    },
    {
      "cell_type": "markdown",
      "source": [
        "# 4. Define the Data Collection Period"
      ],
      "metadata": {
        "id": "XB5l1xYMIom3"
      }
    },
    {
      "cell_type": "code",
      "source": [
        "start_date = datetime(2021, 1, 1)\n",
        "end_date = datetime.now()"
      ],
      "metadata": {
        "id": "1rVT1i6KIrGw"
      },
      "execution_count": 16,
      "outputs": []
    },
    {
      "cell_type": "markdown",
      "source": [
        "# 5. Initialize an Empty DataFrame\n",
        "Create an empty pandas DataFrame to store combined price data for all cryptocurrencies."
      ],
      "metadata": {
        "id": "wQRVyXQmHb9O"
      }
    },
    {
      "cell_type": "code",
      "source": [
        "combined_data = pd.DataFrame()"
      ],
      "metadata": {
        "id": "J3RuSEQkHiQx"
      },
      "execution_count": 17,
      "outputs": []
    },
    {
      "cell_type": "markdown",
      "source": [
        "# 6. Main Data Collection Loop\n",
        "This loop iterates over each cryptocurrency and fetches historical price data in defined date ranges, then appends it to a combined DataFrame."
      ],
      "metadata": {
        "id": "5_2KBeOAFrxc"
      }
    },
    {
      "cell_type": "code",
      "source": [
        "for coin_id, symbol in coins.items():\n",
        "    print(f\"Processing {symbol}\")\n",
        "    for start, end in daterange(start_date, end_date):\n",
        "        print(f\"Loading data from {start.date()} to {end.date()}\")\n",
        "        from_ts = int(start.timestamp())\n",
        "        to_ts = int(end.timestamp())\n",
        "        try:\n",
        "            data = cg.get_coin_market_chart_range_by_id(\n",
        "                id=coin_id,\n",
        "                vs_currency='usd',\n",
        "                from_timestamp=from_ts,\n",
        "                to_timestamp=to_ts\n",
        "            )\n",
        "            prices = pd.DataFrame(data['prices'], columns=['timestamp', 'price'])\n",
        "            prices['date'] = pd.to_datetime(prices['timestamp'], unit='ms')\n",
        "            prices['symbol'] = symbol\n",
        "            prices = prices[['date', 'symbol', 'price']]\n",
        "            combined_data = pd.concat([combined_data, prices], ignore_index=True)\n",
        "        except Exception as e:\n",
        "            print(f\"Error loading {symbol} data from {start.date()} to {end.date()}: {e}\")"
      ],
      "metadata": {
        "colab": {
          "base_uri": "https://localhost:8080/"
        },
        "id": "CntUpOmpI2DA",
        "outputId": "8951809c-091d-4657-bab5-8390407aa2a3"
      },
      "execution_count": 18,
      "outputs": [
        {
          "output_type": "stream",
          "name": "stdout",
          "text": [
            "Processing BTC\n",
            "Loading data from 2021-01-01 to 2022-01-01\n",
            "Error loading BTC data from 2021-01-01 to 2022-01-01: {'error': {'status': {'timestamp': '2025-07-07T23:04:38.551+00:00', 'error_code': 10012, 'error_message': 'Your request exceeds the allowed time range. Public API users are limited to querying historical data within the past 365 days. Upgrade to a paid plan to enjoy full historical data access: https://www.coingecko.com/en/api/pricing. '}}}\n",
            "Loading data from 2022-01-02 to 2023-01-02\n",
            "Error loading BTC data from 2022-01-02 to 2023-01-02: {'error': {'status': {'timestamp': '2025-07-07T23:04:38.652+00:00', 'error_code': 10012, 'error_message': 'Your request exceeds the allowed time range. Public API users are limited to querying historical data within the past 365 days. Upgrade to a paid plan to enjoy full historical data access: https://www.coingecko.com/en/api/pricing. '}}}\n",
            "Loading data from 2023-01-03 to 2024-01-03\n",
            "Error loading BTC data from 2023-01-03 to 2024-01-03: {'error': {'status': {'timestamp': '2025-07-07T23:04:38.760+00:00', 'error_code': 10012, 'error_message': 'Your request exceeds the allowed time range. Public API users are limited to querying historical data within the past 365 days. Upgrade to a paid plan to enjoy full historical data access: https://www.coingecko.com/en/api/pricing. '}}}\n",
            "Loading data from 2024-01-04 to 2025-01-03\n",
            "Error loading BTC data from 2024-01-04 to 2025-01-03: {'error': {'status': {'timestamp': '2025-07-07T23:04:38.872+00:00', 'error_code': 10012, 'error_message': 'Your request exceeds the allowed time range. Public API users are limited to querying historical data within the past 365 days. Upgrade to a paid plan to enjoy full historical data access: https://www.coingecko.com/en/api/pricing. '}}}\n",
            "Loading data from 2025-01-04 to 2025-07-07\n",
            "Processing ETH\n",
            "Loading data from 2021-01-01 to 2022-01-01\n",
            "Error loading ETH data from 2021-01-01 to 2022-01-01: {'error': {'status': {'timestamp': '2025-07-07T23:05:39.125+00:00', 'error_code': 10012, 'error_message': 'Your request exceeds the allowed time range. Public API users are limited to querying historical data within the past 365 days. Upgrade to a paid plan to enjoy full historical data access: https://www.coingecko.com/en/api/pricing. '}}}\n",
            "Loading data from 2022-01-02 to 2023-01-02\n",
            "Error loading ETH data from 2022-01-02 to 2023-01-02: {'error': {'status': {'timestamp': '2025-07-07T23:05:39.256+00:00', 'error_code': 10012, 'error_message': 'Your request exceeds the allowed time range. Public API users are limited to querying historical data within the past 365 days. Upgrade to a paid plan to enjoy full historical data access: https://www.coingecko.com/en/api/pricing. '}}}\n",
            "Loading data from 2023-01-03 to 2024-01-03\n",
            "Error loading ETH data from 2023-01-03 to 2024-01-03: {'error': {'status': {'timestamp': '2025-07-07T23:05:39.361+00:00', 'error_code': 10012, 'error_message': 'Your request exceeds the allowed time range. Public API users are limited to querying historical data within the past 365 days. Upgrade to a paid plan to enjoy full historical data access: https://www.coingecko.com/en/api/pricing. '}}}\n",
            "Loading data from 2024-01-04 to 2025-01-03\n",
            "Error loading ETH data from 2024-01-04 to 2025-01-03: {'error': {'status': {'timestamp': '2025-07-07T23:05:39.499+00:00', 'error_code': 10012, 'error_message': 'Your request exceeds the allowed time range. Public API users are limited to querying historical data within the past 365 days. Upgrade to a paid plan to enjoy full historical data access: https://www.coingecko.com/en/api/pricing. '}}}\n",
            "Loading data from 2025-01-04 to 2025-07-07\n",
            "Processing BNB\n",
            "Loading data from 2021-01-01 to 2022-01-01\n",
            "Error loading BNB data from 2021-01-01 to 2022-01-01: {'error': {'status': {'timestamp': '2025-07-07T23:06:39.781+00:00', 'error_code': 10012, 'error_message': 'Your request exceeds the allowed time range. Public API users are limited to querying historical data within the past 365 days. Upgrade to a paid plan to enjoy full historical data access: https://www.coingecko.com/en/api/pricing. '}}}\n",
            "Loading data from 2022-01-02 to 2023-01-02\n",
            "Error loading BNB data from 2022-01-02 to 2023-01-02: {'error': {'status': {'timestamp': '2025-07-07T23:06:39.891+00:00', 'error_code': 10012, 'error_message': 'Your request exceeds the allowed time range. Public API users are limited to querying historical data within the past 365 days. Upgrade to a paid plan to enjoy full historical data access: https://www.coingecko.com/en/api/pricing. '}}}\n",
            "Loading data from 2023-01-03 to 2024-01-03\n",
            "Error loading BNB data from 2023-01-03 to 2024-01-03: {'error': {'status': {'timestamp': '2025-07-07T23:06:39.994+00:00', 'error_code': 10012, 'error_message': 'Your request exceeds the allowed time range. Public API users are limited to querying historical data within the past 365 days. Upgrade to a paid plan to enjoy full historical data access: https://www.coingecko.com/en/api/pricing. '}}}\n",
            "Loading data from 2024-01-04 to 2025-01-03\n",
            "Error loading BNB data from 2024-01-04 to 2025-01-03: {'error': {'status': {'timestamp': '2025-07-07T23:07:40.147+00:00', 'error_code': 10012, 'error_message': 'Your request exceeds the allowed time range. Public API users are limited to querying historical data within the past 365 days. Upgrade to a paid plan to enjoy full historical data access: https://www.coingecko.com/en/api/pricing. '}}}\n",
            "Loading data from 2025-01-04 to 2025-07-07\n",
            "Processing ADA\n",
            "Loading data from 2021-01-01 to 2022-01-01\n",
            "Error loading ADA data from 2021-01-01 to 2022-01-01: {'error': {'status': {'timestamp': '2025-07-07T23:07:40.398+00:00', 'error_code': 10012, 'error_message': 'Your request exceeds the allowed time range. Public API users are limited to querying historical data within the past 365 days. Upgrade to a paid plan to enjoy full historical data access: https://www.coingecko.com/en/api/pricing. '}}}\n",
            "Loading data from 2022-01-02 to 2023-01-02\n",
            "Error loading ADA data from 2022-01-02 to 2023-01-02: {'error': {'status': {'timestamp': '2025-07-07T23:07:40.506+00:00', 'error_code': 10012, 'error_message': 'Your request exceeds the allowed time range. Public API users are limited to querying historical data within the past 365 days. Upgrade to a paid plan to enjoy full historical data access: https://www.coingecko.com/en/api/pricing. '}}}\n",
            "Loading data from 2023-01-03 to 2024-01-03\n",
            "Error loading ADA data from 2023-01-03 to 2024-01-03: {'error': {'status': {'timestamp': '2025-07-07T23:08:40.635+00:00', 'error_code': 10012, 'error_message': 'Your request exceeds the allowed time range. Public API users are limited to querying historical data within the past 365 days. Upgrade to a paid plan to enjoy full historical data access: https://www.coingecko.com/en/api/pricing. '}}}\n",
            "Loading data from 2024-01-04 to 2025-01-03\n",
            "Error loading ADA data from 2024-01-04 to 2025-01-03: {'error': {'status': {'timestamp': '2025-07-07T23:08:40.746+00:00', 'error_code': 10012, 'error_message': 'Your request exceeds the allowed time range. Public API users are limited to querying historical data within the past 365 days. Upgrade to a paid plan to enjoy full historical data access: https://www.coingecko.com/en/api/pricing. '}}}\n",
            "Loading data from 2025-01-04 to 2025-07-07\n",
            "Processing SOL\n",
            "Loading data from 2021-01-01 to 2022-01-01\n",
            "Error loading SOL data from 2021-01-01 to 2022-01-01: {'error': {'status': {'timestamp': '2025-07-07T23:08:40.980+00:00', 'error_code': 10012, 'error_message': 'Your request exceeds the allowed time range. Public API users are limited to querying historical data within the past 365 days. Upgrade to a paid plan to enjoy full historical data access: https://www.coingecko.com/en/api/pricing. '}}}\n",
            "Loading data from 2022-01-02 to 2023-01-02\n",
            "Error loading SOL data from 2022-01-02 to 2023-01-02: {'error': {'status': {'timestamp': '2025-07-07T23:09:41.140+00:00', 'error_code': 10012, 'error_message': 'Your request exceeds the allowed time range. Public API users are limited to querying historical data within the past 365 days. Upgrade to a paid plan to enjoy full historical data access: https://www.coingecko.com/en/api/pricing. '}}}\n",
            "Loading data from 2023-01-03 to 2024-01-03\n",
            "Error loading SOL data from 2023-01-03 to 2024-01-03: {'error': {'status': {'timestamp': '2025-07-07T23:09:41.247+00:00', 'error_code': 10012, 'error_message': 'Your request exceeds the allowed time range. Public API users are limited to querying historical data within the past 365 days. Upgrade to a paid plan to enjoy full historical data access: https://www.coingecko.com/en/api/pricing. '}}}\n",
            "Loading data from 2024-01-04 to 2025-01-03\n",
            "Error loading SOL data from 2024-01-04 to 2025-01-03: {'error': {'status': {'timestamp': '2025-07-07T23:09:41.358+00:00', 'error_code': 10012, 'error_message': 'Your request exceeds the allowed time range. Public API users are limited to querying historical data within the past 365 days. Upgrade to a paid plan to enjoy full historical data access: https://www.coingecko.com/en/api/pricing. '}}}\n",
            "Loading data from 2025-01-04 to 2025-07-07\n"
          ]
        }
      ]
    },
    {
      "cell_type": "markdown",
      "source": [
        "# 7. Remove Duplicates\n",
        "Remove duplicate entries based on date and symbol columns to ensure data integrity."
      ],
      "metadata": {
        "id": "PFuHbed_I81G"
      }
    },
    {
      "cell_type": "code",
      "source": [
        "combined_data = combined_data.drop_duplicates(subset=['date', 'symbol']).reset_index(drop=True)\n"
      ],
      "metadata": {
        "id": "y8YBAyqhI9qO"
      },
      "execution_count": 19,
      "outputs": []
    },
    {
      "cell_type": "markdown",
      "source": [
        "Notify that data collection has finished successfully\n"
      ],
      "metadata": {
        "id": "x73W6v15H0uY"
      }
    },
    {
      "cell_type": "code",
      "source": [
        "print(\"Data collection complete!\")"
      ],
      "metadata": {
        "colab": {
          "base_uri": "https://localhost:8080/"
        },
        "id": "BZIRteh2H4FN",
        "outputId": "fdd8c913-b1de-459e-dd2e-62532631d5a4"
      },
      "execution_count": 20,
      "outputs": [
        {
          "output_type": "stream",
          "name": "stdout",
          "text": [
            "Data collection complete!\n"
          ]
        }
      ]
    },
    {
      "cell_type": "markdown",
      "source": [
        "# 8. Connect to (or create) SQLite database file in the data folder"
      ],
      "metadata": {
        "id": "Mdyj6owmM8VM"
      }
    },
    {
      "cell_type": "code",
      "source": [
        "import sqlite3"
      ],
      "metadata": {
        "id": "0MuWE1L5SYXE"
      },
      "execution_count": 21,
      "outputs": []
    },
    {
      "cell_type": "code",
      "source": [
        "conn = sqlite3.connect('crypto_data.sqlite')"
      ],
      "metadata": {
        "id": "v88aEc7dSjIW"
      },
      "execution_count": 22,
      "outputs": []
    },
    {
      "cell_type": "markdown",
      "source": [
        "# 9. Save the combined DataFrame to a table named 'crypto_prices'"
      ],
      "metadata": {
        "id": "H7ATRnKeIMng"
      }
    },
    {
      "cell_type": "code",
      "source": [
        "combined_data.to_sql('crypto_prices', conn, if_exists='replace', index=False)\n"
      ],
      "metadata": {
        "colab": {
          "base_uri": "https://localhost:8080/"
        },
        "id": "uugUOqZ3SmNj",
        "outputId": "5af24b59-5944-4d93-835e-ff1333b4f041"
      },
      "execution_count": 23,
      "outputs": [
        {
          "output_type": "execute_result",
          "data": {
            "text/plain": [
              "925"
            ]
          },
          "metadata": {},
          "execution_count": 23
        }
      ]
    },
    {
      "cell_type": "markdown",
      "source": [
        "# 10. Close the connection"
      ],
      "metadata": {
        "id": "DjAYCzIeIWFg"
      }
    },
    {
      "cell_type": "code",
      "source": [
        "conn.close()\n",
        "print(\"Database saved to data/crypto_data.sqlite\")"
      ],
      "metadata": {
        "colab": {
          "base_uri": "https://localhost:8080/"
        },
        "id": "urEJJjy-IZwa",
        "outputId": "eb809b57-b500-4f24-a7a4-d3dc47c2626a"
      },
      "execution_count": 24,
      "outputs": [
        {
          "output_type": "stream",
          "name": "stdout",
          "text": [
            "Database saved to data/crypto_data.sqlite\n"
          ]
        }
      ]
    },
    {
      "cell_type": "markdown",
      "source": [
        "# 11. Download the Database from Colab to Your Computer\n"
      ],
      "metadata": {
        "id": "4a94wAy1Sq72"
      }
    },
    {
      "cell_type": "code",
      "source": [
        "from google.colab import files\n",
        "files.download('crypto_data.sqlite')"
      ],
      "metadata": {
        "colab": {
          "base_uri": "https://localhost:8080/",
          "height": 17
        },
        "id": "5zWUwuJ9SufK",
        "outputId": "64b38e0c-419e-4783-ff81-85d0441ad14a"
      },
      "execution_count": 25,
      "outputs": [
        {
          "output_type": "display_data",
          "data": {
            "text/plain": [
              "<IPython.core.display.Javascript object>"
            ],
            "application/javascript": [
              "\n",
              "    async function download(id, filename, size) {\n",
              "      if (!google.colab.kernel.accessAllowed) {\n",
              "        return;\n",
              "      }\n",
              "      const div = document.createElement('div');\n",
              "      const label = document.createElement('label');\n",
              "      label.textContent = `Downloading \"${filename}\": `;\n",
              "      div.appendChild(label);\n",
              "      const progress = document.createElement('progress');\n",
              "      progress.max = size;\n",
              "      div.appendChild(progress);\n",
              "      document.body.appendChild(div);\n",
              "\n",
              "      const buffers = [];\n",
              "      let downloaded = 0;\n",
              "\n",
              "      const channel = await google.colab.kernel.comms.open(id);\n",
              "      // Send a message to notify the kernel that we're ready.\n",
              "      channel.send({})\n",
              "\n",
              "      for await (const message of channel.messages) {\n",
              "        // Send a message to notify the kernel that we're ready.\n",
              "        channel.send({})\n",
              "        if (message.buffers) {\n",
              "          for (const buffer of message.buffers) {\n",
              "            buffers.push(buffer);\n",
              "            downloaded += buffer.byteLength;\n",
              "            progress.value = downloaded;\n",
              "          }\n",
              "        }\n",
              "      }\n",
              "      const blob = new Blob(buffers, {type: 'application/binary'});\n",
              "      const a = document.createElement('a');\n",
              "      a.href = window.URL.createObjectURL(blob);\n",
              "      a.download = filename;\n",
              "      div.appendChild(a);\n",
              "      a.click();\n",
              "      div.remove();\n",
              "    }\n",
              "  "
            ]
          },
          "metadata": {}
        },
        {
          "output_type": "display_data",
          "data": {
            "text/plain": [
              "<IPython.core.display.Javascript object>"
            ],
            "application/javascript": [
              "download(\"download_701db998-5ac9-4e9f-a003-796a71c16b32\", \"crypto_data.sqlite\", 45056)"
            ]
          },
          "metadata": {}
        }
      ]
    }
  ]
}